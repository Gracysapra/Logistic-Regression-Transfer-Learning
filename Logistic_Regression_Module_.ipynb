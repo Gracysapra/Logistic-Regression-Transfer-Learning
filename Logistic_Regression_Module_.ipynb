{
  "nbformat": 4,
  "nbformat_minor": 0,
  "metadata": {
    "colab": {
      "provenance": [],
      "authorship_tag": "ABX9TyPj9cMyKYWBZZVIdqpxZyIr"
    },
    "kernelspec": {
      "name": "python3",
      "display_name": "Python 3"
    },
    "language_info": {
      "name": "python"
    }
  },
  "cells": [
    {
      "cell_type": "code",
      "source": [
        "import pandas as pd\n",
        "from sklearn.model_selection import train_test_split\n",
        "from sklearn.linear_model import LogisticRegression\n",
        "from sklearn.metrics import accuracy_score\n",
        "from sklearn.metrics import classification_report\n",
        "\n",
        "def train_logistic_model(data, target_column):\n",
        "\n",
        "    # Split the data into features (X) and target (y)\n",
        "    X = data.drop(columns=[target_column])\n",
        "    y = data[target_column]\n",
        "\n",
        "    # Train-test split\n",
        "    X_train, X_test, y_train, y_test = train_test_split(X, y, test_size=0.2, random_state=42)\n",
        "\n",
        "    # Initialize and train the Logistic Regression model\n",
        "    model = LogisticRegression()\n",
        "    model.fit(X_train, y_train)\n",
        "\n",
        "    # Predict on test data\n",
        "    y_pred = model.predict(X_test)\n",
        "\n",
        "    # Calculate accuracy\n",
        "    accuracy = accuracy_score(y_test, y_pred)\n",
        "\n",
        "    # Classification report\n",
        "    clsf_rp = classification_report(y_test, y_pred)\n",
        "\n",
        "    # Return the trained model and accuracy\n",
        "    return model, accuracy,clsf_rp"
      ],
      "metadata": {
        "id": "pKJNl26BKuc8"
      },
      "execution_count": 1,
      "outputs": []
    },
    {
      "cell_type": "code",
      "source": [],
      "metadata": {
        "id": "NdBiIz0YKuZd"
      },
      "execution_count": null,
      "outputs": []
    },
    {
      "cell_type": "code",
      "source": [],
      "metadata": {
        "id": "MkeGviLeKuWq"
      },
      "execution_count": null,
      "outputs": []
    }
  ]
}